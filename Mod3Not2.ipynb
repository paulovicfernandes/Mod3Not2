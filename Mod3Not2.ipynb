{
  "cells": [
    {
      "cell_type": "markdown",
      "metadata": {
        "id": "os6IrHafI1S_"
      },
      "source": [
        "# MÓDULO 3 - JUPYTER NOTEBOOK 2"
      ]
    },
    {
      "cell_type": "markdown",
      "metadata": {
        "id": "3rI6NwSgI1TL"
      },
      "source": [
        "# Aula 5 - Pacotes e NumPy"
      ]
    },
    {
      "cell_type": "markdown",
      "metadata": {
        "id": "oXUMK3aBI1TM"
      },
      "source": [
        "## 1.1 Carregando módulos ``import``\n"
      ]
    },
    {
      "cell_type": "code",
      "execution_count": 1,
      "metadata": {
        "colab": {
          "base_uri": "https://localhost:8080/"
        },
        "id": "iyDlSy_eI1TR",
        "outputId": "5e94eac8-9597-4a6d-9b3c-8b58c9a1ccd1"
      },
      "outputs": [
        {
          "output_type": "execute_result",
          "data": {
            "text/plain": [
              "-1.0"
            ]
          },
          "metadata": {},
          "execution_count": 1
        }
      ],
      "source": [
        "import math\n",
        "math.cos(math.pi)"
      ]
    },
    {
      "cell_type": "code",
      "execution_count": 2,
      "metadata": {
        "colab": {
          "base_uri": "https://localhost:8080/"
        },
        "id": "9puJewlnI1Ta",
        "outputId": "4b5ad5ce-03b2-4e26-d69a-23f5550b7aab"
      },
      "outputs": [
        {
          "output_type": "execute_result",
          "data": {
            "text/plain": [
              "-1.0"
            ]
          },
          "metadata": {},
          "execution_count": 2
        }
      ],
      "source": [
        "import numpy as np\n",
        "np.cos(np.pi)"
      ]
    },
    {
      "cell_type": "code",
      "execution_count": 3,
      "metadata": {
        "colab": {
          "base_uri": "https://localhost:8080/"
        },
        "id": "cHZsnxSFI1Tb",
        "outputId": "f9939e59-bbed-42d8-dc47-ff2d9d4499fb"
      },
      "outputs": [
        {
          "output_type": "execute_result",
          "data": {
            "text/plain": [
              "-1.0"
            ]
          },
          "metadata": {},
          "execution_count": 3
        }
      ],
      "source": [
        "from math import cos, pi\n",
        "cos(pi)"
      ]
    },
    {
      "cell_type": "code",
      "execution_count": 4,
      "metadata": {
        "colab": {
          "base_uri": "https://localhost:8080/"
        },
        "id": "0bwSkR1aI1Td",
        "outputId": "90262e80-395d-416a-aa4d-255f956cb3ec"
      },
      "outputs": [
        {
          "output_type": "execute_result",
          "data": {
            "text/plain": [
              "1.0"
            ]
          },
          "metadata": {},
          "execution_count": 4
        }
      ],
      "source": [
        "from math import *\n",
        "sin(pi) ** 2 + cos(pi) ** 2"
      ]
    },
    {
      "cell_type": "code",
      "execution_count": 5,
      "metadata": {
        "id": "ffu2qnjnI1Te"
      },
      "outputs": [],
      "source": [
        "from numpy import *"
      ]
    },
    {
      "cell_type": "markdown",
      "metadata": {
        "id": "FCUJD4CWI1Tg"
      },
      "source": [
        "Quando usamos o ``import *`` ele substitui todas as funções padrões do python pelas funções do módulo carregado, o que pode gerar um comportamento não esperado. Esse último comando ``from numpy import *`` substitui a função ``sum`` pela função ``numpy.sum`` e existe diferenças entre elas. Por isso o ``import *`` deve ser evitado."
      ]
    },
    {
      "cell_type": "markdown",
      "metadata": {
        "id": "y6p0plPNI1Th"
      },
      "source": [
        "## 1.2 Bibliotecas padrão do Python\n",
        "\n",
        "Documentação das bibliotecas padrão do Python: https://docs.python.org/pt-br/3/library/."
      ]
    },
    {
      "cell_type": "markdown",
      "metadata": {
        "id": "n-Y7W_U9I1Ti"
      },
      "source": [
        "## 1.3 Instalando e importando módulos de terceiros\n",
        "\n",
        "Os módulos que não são padrão do Python podem ser usados da mesma forma que os módulos padrão, mas antes disso devem ser instalados na nossa máquina.\n",
        "\n",
        "Para isso, podemos utilizar o seguinte comando no CMD:\n",
        "```\n",
        "$ pip install nome_do_pacote\n",
        "```\n",
        "``pip`` é um comando que automaticamente baixa e instala os pacotes listados no PyPI (*Python Package Index*), que contém um repositório de módulos.  \n",
        "\n",
        "Após a instalação do módulo, a utilização dentro do jupyter notebook é igual ao das bibliotecas padrão usando o ``import``\n",
        "\n",
        "Para mais informações sobre o PyPI, acesse o site: http://pypi.python.org/."
      ]
    },
    {
      "cell_type": "markdown",
      "metadata": {
        "ExecuteTime": {
          "end_time": "2021-04-29T00:15:49.568234Z",
          "start_time": "2021-04-29T00:15:49.564235Z"
        },
        "id": "2RTMnQz-I1Tk"
      },
      "source": [
        "## 2.0 NumPy"
      ]
    },
    {
      "cell_type": "markdown",
      "metadata": {
        "id": "XgG0hnZ1I1Tl"
      },
      "source": [
        "Exemplo e texto adaptado de: https://numpy.org/"
      ]
    },
    {
      "cell_type": "markdown",
      "metadata": {
        "id": "gkCqgbaoI1Tm"
      },
      "source": [
        "NumPy é o pacote essencial para computação científica em Python. É uma biblioteca Python que fornece um objeto array multidimensional (vetores e matrizes) e uma variedade de rotinas para operações rápidas.\n",
        "\n",
        "A principal parte do pacote NumPy é o objeto NDArray, que é um conjunto de dados n-dimensional de tipos iguais. Possui um desempenho superior se comparado às sequencias padrão do Python (lista, tupla, etc), pois as operações são realizadas em códigos compilados. Outras diferenças são:\n",
        "\n",
        "Os arrays NumPy são de tamanho fixo e as listas não.\n",
        "\n",
        "Os elementos dos arrays NumPy devem ser todos do mesmo tipo e na lista podem ter tipos diferentes.\n",
        "\n",
        "Os arrays NumPy facilitam operações matemáticas em uma grande quantidade de dados. Normalmente, essas operações são executadas de forma mais eficiente e com menos código do que é possível usando as sequências do Python.\n",
        "\n",
        "**Exemplo simples**\n",
        "\n",
        "**Usando listas:**"
      ]
    },
    {
      "cell_type": "code",
      "source": [
        "lst_a = [1, 2, 3, 4, 5]\n",
        "lst_b = [6, 7, 8, 9, 10]\n",
        "lst_c = []\n",
        "\n",
        "for i in range(len(lst_a)):\n",
        "    lst_c.append(lst_a[i] * lst_b[i])\n",
        "\n",
        "print(lst_c)\n"
      ],
      "metadata": {
        "colab": {
          "base_uri": "https://localhost:8080/"
        },
        "id": "oDDvsasDKpxr",
        "outputId": "5a88c018-fd35-4b42-ef96-a2ce377cfa8d"
      },
      "execution_count": 8,
      "outputs": [
        {
          "output_type": "stream",
          "name": "stdout",
          "text": [
            "[6, 14, 24, 36, 50]\n"
          ]
        }
      ]
    },
    {
      "cell_type": "markdown",
      "metadata": {
        "id": "C6VPqASLI1Tr"
      },
      "source": [
        "**Usando NumPy:**"
      ]
    },
    {
      "cell_type": "code",
      "execution_count": 9,
      "metadata": {
        "ExecuteTime": {
          "end_time": "2021-05-09T13:46:08.214081Z",
          "start_time": "2021-05-09T13:46:08.132562Z"
        },
        "id": "khm6wc9gI1Ts"
      },
      "outputs": [],
      "source": [
        "array_a = np.array(lst_a)\n",
        "array_b = np.array(lst_b)"
      ]
    },
    {
      "cell_type": "code",
      "execution_count": 10,
      "metadata": {
        "ExecuteTime": {
          "end_time": "2021-05-09T13:46:15.500490Z",
          "start_time": "2021-05-09T13:46:15.486509Z"
        },
        "id": "iILlTF9mI1Tt"
      },
      "outputs": [],
      "source": [
        "array_c = array_a * array_b"
      ]
    },
    {
      "cell_type": "markdown",
      "metadata": {
        "id": "iPG64BBBI1Tu"
      },
      "source": [
        "___"
      ]
    },
    {
      "cell_type": "markdown",
      "metadata": {
        "id": "9S_wInVKI1Tv"
      },
      "source": [
        "# Aula 6 - NDArrays (*N-dimensional array*)"
      ]
    },
    {
      "cell_type": "markdown",
      "metadata": {
        "ExecuteTime": {
          "end_time": "2021-04-29T00:15:49.568234Z",
          "start_time": "2021-04-29T00:15:49.564235Z"
        },
        "id": "7awH5ALRI1Tw"
      },
      "source": [
        "## 1.0 Criando NDarrays"
      ]
    },
    {
      "cell_type": "markdown",
      "metadata": {
        "id": "GxZ3MRnNI1Tx"
      },
      "source": [
        "### 1.1 A partir de listas do Python ``np.array``\n"
      ]
    },
    {
      "cell_type": "code",
      "execution_count": 11,
      "metadata": {
        "ExecuteTime": {
          "end_time": "2021-05-09T09:48:00.082303Z",
          "start_time": "2021-05-09T09:48:00.067312Z"
        },
        "colab": {
          "base_uri": "https://localhost:8080/"
        },
        "id": "xlWSBEppI1Tx",
        "outputId": "e9a61c32-37fa-4213-f818-f6f87bd184ba"
      },
      "outputs": [
        {
          "output_type": "execute_result",
          "data": {
            "text/plain": [
              "array([5, 2, 3, 4, 1])"
            ]
          },
          "metadata": {},
          "execution_count": 11
        }
      ],
      "source": [
        "np.array([5, 2, 3, 4, 1])"
      ]
    },
    {
      "cell_type": "code",
      "execution_count": 12,
      "metadata": {
        "ExecuteTime": {
          "end_time": "2021-05-09T09:49:59.939641Z",
          "start_time": "2021-05-09T09:49:59.923638Z"
        },
        "colab": {
          "base_uri": "https://localhost:8080/"
        },
        "id": "23cShaxhI1Tz",
        "outputId": "63387479-b8af-46db-b224-7809b5eb5ecd"
      },
      "outputs": [
        {
          "output_type": "execute_result",
          "data": {
            "text/plain": [
              "array([5., 2., 3., 4., 1.])"
            ]
          },
          "metadata": {},
          "execution_count": 12
        }
      ],
      "source": [
        "# só aceita um tipo de dado, se houver diferentes tipos, é transformado em apenas 1.\n",
        "np.array([5, 2, 3, 4, 1.0])\n",
        "# np.array([5, 2, 3, 4, '1'])\n"
      ]
    },
    {
      "cell_type": "code",
      "execution_count": 13,
      "metadata": {
        "ExecuteTime": {
          "end_time": "2021-05-09T09:51:02.633314Z",
          "start_time": "2021-05-09T09:51:02.606334Z"
        },
        "colab": {
          "base_uri": "https://localhost:8080/"
        },
        "id": "hCwmq4rMI1T0",
        "outputId": "87e9eb71-ae81-40e0-cd04-cc29c160e71e"
      },
      "outputs": [
        {
          "output_type": "execute_result",
          "data": {
            "text/plain": [
              "array([5., 2., 3., 4., 1.], dtype=float32)"
            ]
          },
          "metadata": {},
          "execution_count": 13
        }
      ],
      "source": [
        "#podemos explicitar o tipo de dado na construção.\n",
        "np.array([5, 2, 3, 4, 1], dtype='float32')"
      ]
    },
    {
      "cell_type": "markdown",
      "metadata": {
        "id": "YSG24xYMI1T2"
      },
      "source": [
        "### 1.2 A partir de rotinas do NumPy ``np.zeros`` ``np.ones`` ``np.arrange`` ``np.random.randint``\n",
        "\n",
        "Nas aulas anteriores, para criarmos grandes listas do Python (todos os números pares até o 200), usamos as estruturas de repetição ``while`` e ``for``.\n",
        "\n",
        "Para criar grandes arrays podemos usar rotinas do NumPy."
      ]
    },
    {
      "cell_type": "code",
      "execution_count": 14,
      "metadata": {
        "ExecuteTime": {
          "end_time": "2021-05-09T10:06:49.078431Z",
          "start_time": "2021-05-09T10:06:49.061431Z"
        },
        "colab": {
          "base_uri": "https://localhost:8080/"
        },
        "id": "GOY0aRclI1T3",
        "outputId": "41f153e8-1bdd-4bc2-898f-e1a4bb289782"
      },
      "outputs": [
        {
          "output_type": "execute_result",
          "data": {
            "text/plain": [
              "array([0., 0., 0., 0., 0.])"
            ]
          },
          "metadata": {},
          "execution_count": 14
        }
      ],
      "source": [
        "#criando um vetor de zeros\n",
        "vetor_zeros = np.zeros(5)\n",
        "vetor_zeros"
      ]
    },
    {
      "cell_type": "code",
      "execution_count": 15,
      "metadata": {
        "ExecuteTime": {
          "end_time": "2021-05-09T10:07:00.453478Z",
          "start_time": "2021-05-09T10:07:00.433487Z"
        },
        "scrolled": true,
        "colab": {
          "base_uri": "https://localhost:8080/"
        },
        "id": "8OgH_5FjI1T4",
        "outputId": "bdeee917-f587-4013-d479-86b807d146dc"
      },
      "outputs": [
        {
          "output_type": "execute_result",
          "data": {
            "text/plain": [
              "array([[0., 0., 0., 0., 0.],\n",
              "       [0., 0., 0., 0., 0.]])"
            ]
          },
          "metadata": {},
          "execution_count": 15
        }
      ],
      "source": [
        "#criando uma matriz de zeros\n",
        "matriz_zeros = np.zeros((2, 5))\n",
        "matriz_zeros"
      ]
    },
    {
      "cell_type": "code",
      "execution_count": 16,
      "metadata": {
        "ExecuteTime": {
          "end_time": "2021-05-09T10:07:09.822839Z",
          "start_time": "2021-05-09T10:07:09.765264Z"
        },
        "colab": {
          "base_uri": "https://localhost:8080/"
        },
        "id": "tQgUzt8vI1T6",
        "outputId": "3a91f272-d4eb-4b4e-9d8c-61716d07217c"
      },
      "outputs": [
        {
          "output_type": "execute_result",
          "data": {
            "text/plain": [
              "array([ 2,  4,  6,  8, 10, 12, 14, 16, 18, 20])"
            ]
          },
          "metadata": {},
          "execution_count": 16
        }
      ],
      "source": [
        "#criando array dos numeros pares\n",
        "pares = np.arange(2, 22, 2)\n",
        "pares"
      ]
    },
    {
      "cell_type": "code",
      "execution_count": 17,
      "metadata": {
        "ExecuteTime": {
          "end_time": "2021-05-09T10:12:40.674848Z",
          "start_time": "2021-05-09T10:12:40.669851Z"
        },
        "colab": {
          "base_uri": "https://localhost:8080/"
        },
        "id": "fLhBo7DQI1T7",
        "outputId": "a2053c7f-3fcf-4456-90a7-5562948ca7c1"
      },
      "outputs": [
        {
          "output_type": "execute_result",
          "data": {
            "text/plain": [
              "array([[0.04528458, 0.22374718],\n",
              "       [0.70894729, 0.1088011 ],\n",
              "       [0.73043879, 0.50933718]])"
            ]
          },
          "metadata": {},
          "execution_count": 17
        }
      ],
      "source": [
        "np.random.rand(3,2)"
      ]
    },
    {
      "cell_type": "code",
      "execution_count": 18,
      "metadata": {
        "ExecuteTime": {
          "end_time": "2021-05-09T10:38:45.853086Z",
          "start_time": "2021-05-09T10:38:45.840080Z"
        },
        "colab": {
          "base_uri": "https://localhost:8080/"
        },
        "id": "-R9ZnoYaI1T8",
        "outputId": "e80e2dc0-48c1-43aa-eee2-8767f7a1ba1f"
      },
      "outputs": [
        {
          "output_type": "execute_result",
          "data": {
            "text/plain": [
              "array([[0, 1, 0],\n",
              "       [3, 2, 4],\n",
              "       [0, 3, 1]])"
            ]
          },
          "metadata": {},
          "execution_count": 18
        }
      ],
      "source": [
        "# Create a 3x3 array of random integers in the interval [0, 10)\n",
        "np.random.randint(5, size=(3, 3))"
      ]
    },
    {
      "cell_type": "markdown",
      "metadata": {
        "id": "SOT8ibcyI1T-"
      },
      "source": [
        "More advanced type specification is possible, such as specifying big or little endian numbers; for more information, refer to the [NumPy documentation](http://numpy.org/).\n",
        "NumPy also supports compound data types, which will be covered in [Structured Data: NumPy's Structured Arrays](02.09-Structured-Data-NumPy.ipynb)."
      ]
    },
    {
      "cell_type": "markdown",
      "metadata": {
        "ExecuteTime": {
          "end_time": "2021-04-29T00:15:49.568234Z",
          "start_time": "2021-04-29T00:15:49.564235Z"
        },
        "id": "6sEY3IQCI1T_"
      },
      "source": [
        "## 2.0 Aritmética com NDarrays"
      ]
    },
    {
      "cell_type": "code",
      "execution_count": 19,
      "metadata": {
        "ExecuteTime": {
          "end_time": "2021-05-09T13:07:13.234916Z",
          "start_time": "2021-05-09T13:07:13.119387Z"
        },
        "id": "ov3jchKaI1UA"
      },
      "outputs": [],
      "source": [
        "array_2 = np.array([2, 2, 2, 2, 2])\n",
        "array_10 = np.array([10, 10, 10, 10, 10])"
      ]
    },
    {
      "cell_type": "code",
      "execution_count": 20,
      "metadata": {
        "ExecuteTime": {
          "end_time": "2021-05-09T13:11:55.183103Z",
          "start_time": "2021-05-09T13:11:55.166095Z"
        },
        "colab": {
          "base_uri": "https://localhost:8080/"
        },
        "id": "xQRfMNKSI1UB",
        "outputId": "89f1227a-7517-4d13-e066-ad0c81c842ab"
      },
      "outputs": [
        {
          "output_type": "execute_result",
          "data": {
            "text/plain": [
              "array([4, 4, 4, 4, 4])"
            ]
          },
          "metadata": {},
          "execution_count": 20
        }
      ],
      "source": [
        "array_2+2"
      ]
    },
    {
      "cell_type": "code",
      "execution_count": 21,
      "metadata": {
        "ExecuteTime": {
          "end_time": "2021-05-09T13:07:32.963157Z",
          "start_time": "2021-05-09T13:07:32.956161Z"
        },
        "colab": {
          "base_uri": "https://localhost:8080/"
        },
        "id": "NflVlg1fI1UC",
        "outputId": "fc7a2a5c-beaa-49dd-95bd-94f47783f8fc"
      },
      "outputs": [
        {
          "output_type": "execute_result",
          "data": {
            "text/plain": [
              "array([12, 12, 12, 12, 12])"
            ]
          },
          "metadata": {},
          "execution_count": 21
        }
      ],
      "source": [
        "array_2+array_10"
      ]
    },
    {
      "cell_type": "code",
      "execution_count": 22,
      "metadata": {
        "ExecuteTime": {
          "end_time": "2021-05-09T13:07:40.944439Z",
          "start_time": "2021-05-09T13:07:40.930450Z"
        },
        "colab": {
          "base_uri": "https://localhost:8080/"
        },
        "id": "aH41w13II1UD",
        "outputId": "433f0864-6659-4119-a03b-3840cc57a532"
      },
      "outputs": [
        {
          "output_type": "execute_result",
          "data": {
            "text/plain": [
              "array([20, 20, 20, 20, 20])"
            ]
          },
          "metadata": {},
          "execution_count": 22
        }
      ],
      "source": [
        "array_2*array_10"
      ]
    },
    {
      "cell_type": "code",
      "execution_count": 23,
      "metadata": {
        "ExecuteTime": {
          "end_time": "2021-05-09T13:07:55.889302Z",
          "start_time": "2021-05-09T13:07:55.787148Z"
        },
        "colab": {
          "base_uri": "https://localhost:8080/"
        },
        "id": "ZUt33XpRI1UF",
        "outputId": "dbaf2bd5-bc76-4003-b875-181d4b509af6"
      },
      "outputs": [
        {
          "output_type": "execute_result",
          "data": {
            "text/plain": [
              "array([5., 5., 5., 5., 5.])"
            ]
          },
          "metadata": {},
          "execution_count": 23
        }
      ],
      "source": [
        "array_10/array_2"
      ]
    },
    {
      "cell_type": "code",
      "execution_count": 24,
      "metadata": {
        "ExecuteTime": {
          "end_time": "2021-05-09T13:08:55.458778Z",
          "start_time": "2021-05-09T13:08:55.440795Z"
        },
        "colab": {
          "base_uri": "https://localhost:8080/"
        },
        "id": "UfUQ3L3LI1Uf",
        "outputId": "ccb95b66-9677-4240-c513-b3bb9698d2a5"
      },
      "outputs": [
        {
          "output_type": "execute_result",
          "data": {
            "text/plain": [
              "array([100, 100, 100, 100, 100])"
            ]
          },
          "metadata": {},
          "execution_count": 24
        }
      ],
      "source": [
        "array_10**array_2"
      ]
    },
    {
      "cell_type": "code",
      "execution_count": 25,
      "metadata": {
        "ExecuteTime": {
          "end_time": "2021-05-09T13:11:27.409090Z",
          "start_time": "2021-05-09T13:11:27.337281Z"
        },
        "id": "rioPBAcrI1Ug"
      },
      "outputs": [],
      "source": [
        "array_1a5 = np.array([1, 2, 3, 4, 5])"
      ]
    },
    {
      "cell_type": "code",
      "execution_count": 26,
      "metadata": {
        "ExecuteTime": {
          "end_time": "2021-05-09T13:11:28.244229Z",
          "start_time": "2021-05-09T13:11:28.237232Z"
        },
        "colab": {
          "base_uri": "https://localhost:8080/"
        },
        "id": "_bk6g5eOI1Uh",
        "outputId": "2075dc7b-b36a-41f0-a2f1-d542d14facf2"
      },
      "outputs": [
        {
          "output_type": "execute_result",
          "data": {
            "text/plain": [
              "array([ 1,  4,  9, 16, 25])"
            ]
          },
          "metadata": {},
          "execution_count": 26
        }
      ],
      "source": [
        "array_1a5**array_2"
      ]
    },
    {
      "cell_type": "code",
      "execution_count": 27,
      "metadata": {
        "ExecuteTime": {
          "end_time": "2021-05-09T13:11:28.837628Z",
          "start_time": "2021-05-09T13:11:28.820653Z"
        },
        "colab": {
          "base_uri": "https://localhost:8080/"
        },
        "id": "JG4XiK-EI1Uj",
        "outputId": "423e0ea0-8459-4e52-d648-073174eceeb8"
      },
      "outputs": [
        {
          "output_type": "execute_result",
          "data": {
            "text/plain": [
              "array([ 1,  4,  9, 16, 25])"
            ]
          },
          "metadata": {},
          "execution_count": 27
        }
      ],
      "source": [
        "array_1a5**2"
      ]
    },
    {
      "cell_type": "markdown",
      "metadata": {
        "id": "1d2QDHrcI1Uk"
      },
      "source": [
        "# Aula 7 - Indexação e Matrizes"
      ]
    },
    {
      "cell_type": "markdown",
      "metadata": {
        "ExecuteTime": {
          "end_time": "2021-04-29T00:15:49.568234Z",
          "start_time": "2021-04-29T00:15:49.564235Z"
        },
        "id": "-qDBtsRFI1Ul"
      },
      "source": [
        "## 1.0 Indexação básica, indexação booleana e fatiamento"
      ]
    },
    {
      "cell_type": "code",
      "execution_count": 28,
      "metadata": {
        "ExecuteTime": {
          "end_time": "2021-05-18T01:27:19.727195Z",
          "start_time": "2021-05-18T01:27:19.717186Z"
        },
        "colab": {
          "base_uri": "https://localhost:8080/"
        },
        "id": "esSEuA4gI1Um",
        "outputId": "de496cf1-9adf-4ad5-ba3b-19bfe6a96bc5"
      },
      "outputs": [
        {
          "output_type": "execute_result",
          "data": {
            "text/plain": [
              "array([ 2,  3,  5,  7, 11])"
            ]
          },
          "metadata": {},
          "execution_count": 28
        }
      ],
      "source": [
        "array_primos = np.array([2, 3, 5, 7, 11])\n",
        "array_primos"
      ]
    },
    {
      "cell_type": "markdown",
      "metadata": {
        "id": "vLo8F2VRI1Un"
      },
      "source": [
        "<img src=\"list-indexing.png\">\n",
        "\n",
        "https://github.com/jakevdp/WhirlwindTourOfPython/blob/master/fig/list-indexing.png"
      ]
    },
    {
      "cell_type": "code",
      "execution_count": 29,
      "metadata": {
        "ExecuteTime": {
          "end_time": "2021-05-18T01:32:09.293363Z",
          "start_time": "2021-05-18T01:32:09.285353Z"
        },
        "colab": {
          "base_uri": "https://localhost:8080/"
        },
        "id": "C7-Xu830I1Uo",
        "outputId": "0fed84a1-58cb-402c-a6ec-c1e4a942623b"
      },
      "outputs": [
        {
          "output_type": "execute_result",
          "data": {
            "text/plain": [
              "array([ 2,  3,  5,  7, 11])"
            ]
          },
          "metadata": {},
          "execution_count": 29
        }
      ],
      "source": [
        "#vamos praticar com alguns exemplos de indexação básica\n",
        "array_primos"
      ]
    },
    {
      "cell_type": "code",
      "execution_count": 30,
      "metadata": {
        "ExecuteTime": {
          "end_time": "2021-05-18T01:29:48.280462Z",
          "start_time": "2021-05-18T01:29:48.269458Z"
        },
        "colab": {
          "base_uri": "https://localhost:8080/"
        },
        "id": "UVK6Y1-LI1Uq",
        "outputId": "003fe8d0-8ca3-4f61-c305-23b298a738cd"
      },
      "outputs": [
        {
          "output_type": "execute_result",
          "data": {
            "text/plain": [
              "[True, False, True, True, False]"
            ]
          },
          "metadata": {},
          "execution_count": 30
        }
      ],
      "source": [
        "bool_lista = [True, False, True, True, False]\n",
        "bool_lista"
      ]
    },
    {
      "cell_type": "code",
      "execution_count": 31,
      "metadata": {
        "ExecuteTime": {
          "end_time": "2021-05-18T01:31:54.211399Z",
          "start_time": "2021-05-18T01:31:54.199401Z"
        },
        "colab": {
          "base_uri": "https://localhost:8080/"
        },
        "id": "XgGFtNCzI1Ur",
        "outputId": "22219d63-c343-4911-8b7c-cd3e1fb282a7"
      },
      "outputs": [
        {
          "output_type": "execute_result",
          "data": {
            "text/plain": [
              "array([2, 5, 7])"
            ]
          },
          "metadata": {},
          "execution_count": 31
        }
      ],
      "source": [
        "# boolean list\n",
        "array_primos[bool_lista]"
      ]
    },
    {
      "cell_type": "code",
      "execution_count": 32,
      "metadata": {
        "ExecuteTime": {
          "end_time": "2021-05-18T01:31:22.052741Z",
          "start_time": "2021-05-18T01:31:22.045746Z"
        },
        "colab": {
          "base_uri": "https://localhost:8080/"
        },
        "id": "AvQk3gCUI1Ut",
        "outputId": "9a19d5eb-d45c-4c97-f24b-12c6956f6c8a"
      },
      "outputs": [
        {
          "output_type": "execute_result",
          "data": {
            "text/plain": [
              "array([5, 7])"
            ]
          },
          "metadata": {},
          "execution_count": 32
        }
      ],
      "source": [
        "#fatiamento\n",
        "array_primos[2:4]"
      ]
    },
    {
      "cell_type": "markdown",
      "metadata": {
        "ExecuteTime": {
          "end_time": "2021-04-29T00:15:49.568234Z",
          "start_time": "2021-04-29T00:15:49.564235Z"
        },
        "id": "V97uA43FI1Uu"
      },
      "source": [
        "## 2.0 Matrizes"
      ]
    },
    {
      "cell_type": "markdown",
      "metadata": {
        "ExecuteTime": {
          "end_time": "2021-05-18T01:33:28.094319Z",
          "start_time": "2021-05-18T01:33:28.086322Z"
        },
        "id": "_HwhNNFoI1Uv"
      },
      "source": [
        "|  Dívida financeira | Renda familiar |\n",
        "|:----:|:---|\n",
        "| 1000 | 6000 |\n",
        "| 2500 | 5500 |\n",
        "| 3000 | 7000 |"
      ]
    },
    {
      "cell_type": "code",
      "execution_count": 33,
      "metadata": {
        "ExecuteTime": {
          "end_time": "2021-05-18T01:37:39.227277Z",
          "start_time": "2021-05-18T01:37:39.222293Z"
        },
        "colab": {
          "base_uri": "https://localhost:8080/"
        },
        "id": "QmL_tUlMI1Uw",
        "outputId": "f5502fa6-3fdc-42be-d6cc-197ba61fa613"
      },
      "outputs": [
        {
          "output_type": "execute_result",
          "data": {
            "text/plain": [
              "array([[1000, 6000],\n",
              "       [2500, 5500],\n",
              "       [3000, 7000]])"
            ]
          },
          "metadata": {},
          "execution_count": 33
        }
      ],
      "source": [
        "matriz_3x2 = np.array([[1000,6000], [2500, 5500], [3000, 7000]])\n",
        "matriz_3x2"
      ]
    },
    {
      "cell_type": "code",
      "execution_count": 34,
      "metadata": {
        "ExecuteTime": {
          "end_time": "2021-05-18T01:38:28.797091Z",
          "start_time": "2021-05-18T01:38:28.783100Z"
        },
        "colab": {
          "base_uri": "https://localhost:8080/"
        },
        "id": "OLSIN7ykI1Uy",
        "outputId": "1ac8b599-91b7-4444-83cd-72847259ba22"
      },
      "outputs": [
        {
          "output_type": "execute_result",
          "data": {
            "text/plain": [
              "array([6.        , 2.2       , 2.33333333])"
            ]
          },
          "metadata": {},
          "execution_count": 34
        }
      ],
      "source": [
        "matriz_3x2[:,1]/matriz_3x2[:,0]"
      ]
    },
    {
      "cell_type": "markdown",
      "metadata": {
        "id": "xoWH5HcCI1Uz"
      },
      "source": [
        "___"
      ]
    },
    {
      "cell_type": "markdown",
      "metadata": {
        "id": "4UenR3ruI1U1"
      },
      "source": [
        "# Aula 8 - Construindo e usando funções"
      ]
    },
    {
      "cell_type": "markdown",
      "metadata": {
        "id": "sqzy-8WpI1U2"
      },
      "source": [
        "## 1.0 Algumas funções nativas\n",
        "\n",
        "Já utilizamos diversas funções nativas como:\n",
        "\n",
        "- A função **print()** que é útil para retornar resultados no output do *jupyter notebook*.\n",
        "- A função **len()** que retorna o tamanho de uma string ou lista.\n",
        "- A função **type()** que retorna o tipo de dado.\n",
        "- As funções **int(), float(), bool() e str()** retornam o argumento inserido na forma de um int, float, bool ou str, respectivamente."
      ]
    },
    {
      "cell_type": "markdown",
      "metadata": {
        "id": "m95B2znfI1U3"
      },
      "source": [
        "### 1.1 A documentação do Python contém uma [lista](https://docs.python.org/pt-br/3/library/functions.html) de todas as funções nativas (built-in-functions)."
      ]
    },
    {
      "cell_type": "markdown",
      "metadata": {
        "id": "BGk-VByUI1U4"
      },
      "source": [
        "## 2.0 Escrevendo uma função ``def``"
      ]
    },
    {
      "cell_type": "markdown",
      "metadata": {
        "id": "72YwvLPcI1U6"
      },
      "source": [
        "Uma boa maneira de organizar, deixar mais legível e mais reutilizável os códigos em python é tornando-os uma função. Vamos cobrir esse tema agora e mostrar 2 maneiras de construir uma função."
      ]
    },
    {
      "cell_type": "markdown",
      "metadata": {
        "id": "7DfoFuJJI1U7"
      },
      "source": [
        "### Fórmula IMC"
      ]
    },
    {
      "cell_type": "markdown",
      "metadata": {
        "id": "Lvk4e8ZVI1U8"
      },
      "source": [
        "$$IMC = \\frac{PESO}{ALTURA*ALTURA}$$\n",
        "Sendo peso em kg e a altura em metro\n"
      ]
    },
    {
      "cell_type": "code",
      "execution_count": 35,
      "metadata": {
        "ExecuteTime": {
          "end_time": "2021-05-08T21:16:51.805828Z",
          "start_time": "2021-05-08T21:16:51.797836Z"
        },
        "colab": {
          "base_uri": "https://localhost:8080/"
        },
        "id": "uBorlAC2I1U-",
        "outputId": "cde30359-335f-4f24-d7f5-9a36ad2d3bf2"
      },
      "outputs": [
        {
          "output_type": "execute_result",
          "data": {
            "text/plain": [
              "24.930747922437675"
            ]
          },
          "metadata": {},
          "execution_count": 35
        }
      ],
      "source": [
        "90/(1.90*1.90)"
      ]
    },
    {
      "cell_type": "code",
      "execution_count": 36,
      "metadata": {
        "ExecuteTime": {
          "end_time": "2021-05-08T07:23:05.771105Z",
          "start_time": "2021-05-08T07:23:05.767118Z"
        },
        "id": "cth__zzWI1U_"
      },
      "outputs": [],
      "source": [
        "def calcula_IMC_lucas():\n",
        "    return 90/(1.90*1.90)"
      ]
    },
    {
      "cell_type": "code",
      "execution_count": 37,
      "metadata": {
        "ExecuteTime": {
          "end_time": "2021-05-08T07:23:12.078127Z",
          "start_time": "2021-05-08T07:23:12.061136Z"
        },
        "colab": {
          "base_uri": "https://localhost:8080/"
        },
        "id": "Woklya0kI1VA",
        "outputId": "b51677f9-82a3-45a9-d73d-680cb64528c9"
      },
      "outputs": [
        {
          "output_type": "execute_result",
          "data": {
            "text/plain": [
              "24.930747922437675"
            ]
          },
          "metadata": {},
          "execution_count": 37
        }
      ],
      "source": [
        "calcula_IMC_lucas()"
      ]
    },
    {
      "cell_type": "code",
      "execution_count": 38,
      "metadata": {
        "ExecuteTime": {
          "end_time": "2021-05-08T07:25:05.059254Z",
          "start_time": "2021-05-08T07:25:05.052258Z"
        },
        "id": "oBrogu2ZI1VC"
      },
      "outputs": [],
      "source": [
        "def calcula_IMC(peso,altura):\n",
        "    imc = peso/(altura*altura)\n",
        "    return imc"
      ]
    },
    {
      "cell_type": "code",
      "execution_count": 39,
      "metadata": {
        "ExecuteTime": {
          "end_time": "2021-05-08T07:25:16.525043Z",
          "start_time": "2021-05-08T07:25:16.509055Z"
        },
        "colab": {
          "base_uri": "https://localhost:8080/"
        },
        "id": "cjeT3sdSI1VD",
        "outputId": "f26da962-4979-4ca1-e865-5ca47fa6bd5c"
      },
      "outputs": [
        {
          "output_type": "execute_result",
          "data": {
            "text/plain": [
              "24.930747922437675"
            ]
          },
          "metadata": {},
          "execution_count": 39
        }
      ],
      "source": [
        "calcula_IMC(90,1.90)"
      ]
    },
    {
      "cell_type": "markdown",
      "metadata": {
        "ExecuteTime": {
          "end_time": "2021-05-08T07:09:55.490063Z",
          "start_time": "2021-05-08T07:09:55.482077Z"
        },
        "id": "4BJYs6PSI1VE"
      },
      "source": [
        "- Muito abaixo do peso: 16 a 16,9 kg/m2\n",
        "- Abaixo do peso: 17 a 18,4 kg/m2\n",
        "- Peso normal: 18,5 a 24,9 kg/m2\n",
        "- Acima do peso: 25 a 29,9 kg/m2"
      ]
    },
    {
      "cell_type": "code",
      "execution_count": 40,
      "metadata": {
        "ExecuteTime": {
          "end_time": "2021-05-08T07:15:13.024298Z",
          "start_time": "2021-05-08T07:15:12.961275Z"
        },
        "id": "XmmD4gd1I1VF"
      },
      "outputs": [],
      "source": [
        "def calcula_IMC(peso,altura):\n",
        "    imc = peso/(altura*altura)\n",
        "    if imc < 17:\n",
        "        print('Muito abaixo do peso')\n",
        "    elif imc < 18.5:\n",
        "        print('Abaixo do peso')\n",
        "    elif imc < 25:\n",
        "        print('Peso normal')\n",
        "    else:\n",
        "        print('Acima do peso')\n",
        "    return imc"
      ]
    },
    {
      "cell_type": "code",
      "execution_count": 41,
      "metadata": {
        "ExecuteTime": {
          "end_time": "2021-05-08T07:15:38.431117Z",
          "start_time": "2021-05-08T07:15:38.424122Z"
        },
        "colab": {
          "base_uri": "https://localhost:8080/"
        },
        "id": "TsuPTrOmI1VH",
        "outputId": "d875b881-b24a-45a1-f86e-2c0bdc25212b"
      },
      "outputs": [
        {
          "output_type": "stream",
          "name": "stdout",
          "text": [
            "Peso normal\n"
          ]
        }
      ],
      "source": [
        "resultado_imc = calcula_IMC(90, 1.90)"
      ]
    },
    {
      "cell_type": "code",
      "execution_count": 42,
      "metadata": {
        "ExecuteTime": {
          "end_time": "2021-05-08T07:15:41.396503Z",
          "start_time": "2021-05-08T07:15:41.383516Z"
        },
        "colab": {
          "base_uri": "https://localhost:8080/"
        },
        "id": "KpqVUAEJI1VI",
        "outputId": "2e3ddeec-2297-4e85-ab49-e1f4e6ec029a"
      },
      "outputs": [
        {
          "output_type": "execute_result",
          "data": {
            "text/plain": [
              "24.930747922437675"
            ]
          },
          "metadata": {},
          "execution_count": 42
        }
      ],
      "source": [
        "resultado_imc"
      ]
    },
    {
      "cell_type": "code",
      "execution_count": 46,
      "metadata": {
        "ExecuteTime": {
          "end_time": "2021-05-08T07:19:01.696442Z",
          "start_time": "2021-05-08T07:19:00.720255Z"
        },
        "colab": {
          "base_uri": "https://localhost:8080/"
        },
        "id": "wpWOiUEyI1VK",
        "outputId": "834bc3e0-3d47-4ca8-803b-efbd6c9488d7"
      },
      "outputs": [
        {
          "output_type": "stream",
          "name": "stdout",
          "text": [
            "Peso normal\n"
          ]
        },
        {
          "output_type": "execute_result",
          "data": {
            "text/plain": [
              "24.930747922437675"
            ]
          },
          "metadata": {},
          "execution_count": 46
        }
      ],
      "source": [
        "calcula_IMC(90, 1.90)"
      ]
    },
    {
      "cell_type": "code",
      "execution_count": 44,
      "metadata": {
        "ExecuteTime": {
          "end_time": "2021-05-08T07:26:39.272719Z",
          "start_time": "2021-05-08T07:26:39.267720Z"
        },
        "id": "1ShLQ44aI1VL"
      },
      "outputs": [],
      "source": [
        "def calcula_IMC_com_default(peso=90, altura=1.90):\n",
        "    imc = peso / (altura * altura)\n",
        "    if imc < 17:\n",
        "        print('Muito abaixo do peso')\n",
        "    elif imc < 18.5:\n",
        "        print('Abaixo do peso')\n",
        "    elif imc < 25:\n",
        "        print('Peso normal')\n",
        "    else:\n",
        "        print('Acima do peso')\n",
        "    return imc"
      ]
    },
    {
      "cell_type": "code",
      "execution_count": 45,
      "metadata": {
        "ExecuteTime": {
          "end_time": "2021-05-08T07:26:45.173165Z",
          "start_time": "2021-05-08T07:26:45.157161Z"
        },
        "colab": {
          "base_uri": "https://localhost:8080/"
        },
        "id": "MZH5CTFpI1VM",
        "outputId": "cbab92d0-2bf1-49c2-e3ec-26c06d63e588"
      },
      "outputs": [
        {
          "output_type": "stream",
          "name": "stdout",
          "text": [
            "Peso normal\n"
          ]
        },
        {
          "output_type": "execute_result",
          "data": {
            "text/plain": [
              "24.930747922437675"
            ]
          },
          "metadata": {},
          "execution_count": 45
        }
      ],
      "source": [
        "calcula_IMC_com_default()"
      ]
    },
    {
      "cell_type": "markdown",
      "metadata": {
        "id": "mhjbsQdMI1VN"
      },
      "source": [
        "## 3.0 Escrevendo uma função ``lambda``"
      ]
    },
    {
      "cell_type": "code",
      "execution_count": 47,
      "metadata": {
        "ExecuteTime": {
          "end_time": "2021-05-08T08:03:56.804902Z",
          "start_time": "2021-05-08T08:03:56.786899Z"
        },
        "colab": {
          "base_uri": "https://localhost:8080/"
        },
        "id": "xXJl69ycI1VP",
        "outputId": "91005612-e3bd-470e-cd0f-c5555b0b913d"
      },
      "outputs": [
        {
          "output_type": "execute_result",
          "data": {
            "text/plain": [
              "24.930747922437675"
            ]
          },
          "metadata": {},
          "execution_count": 47
        }
      ],
      "source": [
        "calcula_imc_lambda = lambda peso, altura: peso/(altura*altura)\n",
        "calcula_imc_lambda(90, 1.90)"
      ]
    },
    {
      "cell_type": "markdown",
      "metadata": {
        "id": "Bwig7RqpI1VQ"
      },
      "source": [
        "**Equivalente à:**"
      ]
    },
    {
      "cell_type": "code",
      "execution_count": 48,
      "metadata": {
        "ExecuteTime": {
          "end_time": "2021-05-08T08:04:05.129133Z",
          "start_time": "2021-05-08T08:04:05.116147Z"
        },
        "colab": {
          "base_uri": "https://localhost:8080/"
        },
        "id": "I8hY3ShlI1VR",
        "outputId": "f8699aaa-bea4-4663-ea4d-1a50574021e3"
      },
      "outputs": [
        {
          "output_type": "execute_result",
          "data": {
            "text/plain": [
              "24.930747922437675"
            ]
          },
          "metadata": {},
          "execution_count": 48
        }
      ],
      "source": [
        "def calcula_IMC_def(peso,altura):\n",
        "    return peso/(altura*altura)\n",
        "calcula_IMC_def(90, 1.90)"
      ]
    },
    {
      "cell_type": "markdown",
      "metadata": {
        "id": "4UU1yLd9I1VT"
      },
      "source": [
        "## 4.0 Métodos\n",
        "\n",
        "Métodos são funções associadas à classe do objeto, e são chamadas como ```<nome_do_objeto>.<nome_do_método>```. Por exemplo, se você tem uma variável que contém um string chamada exemplo_texto, você pode chamar o método ```lower()``` da seguinte forma: ```exemplo_texto.lower()```\n"
      ]
    },
    {
      "cell_type": "code",
      "execution_count": 49,
      "metadata": {
        "colab": {
          "base_uri": "https://localhost:8080/",
          "height": 35
        },
        "id": "g-R_GsaLI1VU",
        "outputId": "9ac795a6-cc42-4d34-a98b-54fd75c1a118"
      },
      "outputs": [
        {
          "output_type": "execute_result",
          "data": {
            "text/plain": [
              "'r. saturnino de brito, 74'"
            ],
            "application/vnd.google.colaboratory.intrinsic+json": {
              "type": "string"
            }
          },
          "metadata": {},
          "execution_count": 49
        }
      ],
      "source": [
        "exemplo_texto = \"R. Saturnino de Brito, 74\"\n",
        "exemplo_texto.lower()"
      ]
    },
    {
      "cell_type": "markdown",
      "metadata": {
        "id": "5YJDssL7I1VX"
      },
      "source": [
        "### 4.1 Métodos de *str*\n",
        "\n",
        "Sendo ```meu_string```uma variável tipo string, todos os métodos abaixo são usados na forma ```meu_string.método()```. Alguns deles requerem ou têm como opcional um parâmetro dentro dos parêntesis, como o método ```meu_string.count('abc')```, que conta o número de ocorrências do string 'abc' dentro da variável ```meu_string```.\n",
        "\n",
        "Como os métodos e funções disponíveis são muitos, o aprendizado depende fortemente do contato e experiência com eles, então pratique sempre que tiver a oportunidade.\n",
        "\n",
        "\n",
        "Observe que strings são dados **imutáveis**, isso significa que seu conteúdo não pode ser alterado sem construir uma variável completamente nova. Portanto, métodos de strings sempre retornam uma cópia da variável original alterada. Abaixo listamos alguns métodos de string que selecionamos:\n",
        "\n",
        "- meu_string.**lower**(): retorna uma cópia de ```meu_string``` em letras minúsculas.\n",
        "- meu_string.**upper**(): retorna uma cópia de ```meu_string``` em letras maiúsculas.\n",
        "- meu_string.**capitalize**(): retorna uma cópia de ```meu_string``` com a primeira letra maiúscula.\n",
        "- meu_string.**count**(substring): conta quantas vezes a sequencia ```substring``` aparece em ```meu_string```\n",
        "- meu_string.**endswith**(sufixo): retorna um *boolean* conforme ```meu_string```inicia com a sequencia de ```sufixo```\n",
        "- meu_string.**find**(): retorna a posição em que ```sub``` ocorre dentro de ```meu_string```. **Nota:** Se você quer verificar se ```sub``` ocorre dentro de ```meu_string```, utilize a construção ```sub in meu_string```.\n",
        "\n",
        "**OBS:** Na [documentação do Python](https://docs.python.org/pt-br/3/library/stdtypes.html) você encontra todos os métodos de *str* nativos disponíveis. Além disso, haverão outros ainda que se mostrarão úteis e que serão carregados com pacotes específicos do Python."
      ]
    },
    {
      "cell_type": "code",
      "execution_count": 50,
      "metadata": {
        "colab": {
          "base_uri": "https://localhost:8080/",
          "height": 35
        },
        "id": "OV-Qsd-XI1VZ",
        "outputId": "3d17f46c-be08-4e6c-e4aa-38c6bd21a30e"
      },
      "outputs": [
        {
          "output_type": "execute_result",
          "data": {
            "text/plain": [
              "'NÃO SÃO PEDRAS'"
            ],
            "application/vnd.google.colaboratory.intrinsic+json": {
              "type": "string"
            }
          },
          "metadata": {},
          "execution_count": 50
        }
      ],
      "source": [
        "meu_string = \"Não são pedras\"\n",
        "meu_string.upper()"
      ]
    },
    {
      "cell_type": "code",
      "execution_count": 51,
      "metadata": {
        "ExecuteTime": {
          "end_time": "2021-05-08T07:59:57.195872Z",
          "start_time": "2021-05-08T07:59:57.188880Z"
        },
        "colab": {
          "base_uri": "https://localhost:8080/",
          "height": 35
        },
        "id": "9NS_9vWYI1Vb",
        "outputId": "d4b1a927-27f4-4d51-f0bb-c3f5193f6f69"
      },
      "outputs": [
        {
          "output_type": "execute_result",
          "data": {
            "text/plain": [
              "'não são pedras'"
            ],
            "application/vnd.google.colaboratory.intrinsic+json": {
              "type": "string"
            }
          },
          "metadata": {},
          "execution_count": 51
        }
      ],
      "source": [
        "meu_string = \"Não são pedras\"\n",
        "meu_string.casefold()"
      ]
    },
    {
      "cell_type": "code",
      "execution_count": 52,
      "metadata": {
        "ExecuteTime": {
          "end_time": "2021-05-08T08:00:51.077231Z",
          "start_time": "2021-05-08T08:00:51.070216Z"
        },
        "colab": {
          "base_uri": "https://localhost:8080/"
        },
        "id": "HydJ8He4I1Vc",
        "outputId": "c1f89ac4-ba38-4143-b742-3d633b60045a"
      },
      "outputs": [
        {
          "output_type": "execute_result",
          "data": {
            "text/plain": [
              "2"
            ]
          },
          "metadata": {},
          "execution_count": 52
        }
      ],
      "source": [
        "meu_string = \"Não são pedras\"\n",
        "meu_string.count('o')"
      ]
    },
    {
      "cell_type": "markdown",
      "metadata": {
        "heading_collapsed": true,
        "id": "BQBg4VY2I1Ve"
      },
      "source": [
        "# ATIVIDADE 2"
      ]
    },
    {
      "cell_type": "markdown",
      "metadata": {
        "hidden": true,
        "id": "eAmfSNK8I1Vf"
      },
      "source": [
        "Você tem duas strings: ```nome_campo``` e ```nome_cadastro```, uma delas veio através de um campo preenchido pelo usuário, e a outra veio de uma tabela cadastral do sistema. Escreva uma função que compara as duas retornando ```True``` caso sejam iguais e ```False```caso sejam diferentes, sem considerar diferenças de maiúsculas e minúsculas utilizando um dos métodos vistos."
      ]
    },
    {
      "cell_type": "code",
      "source": [
        "def compara_nome(nome_campo, nome_sistema):\n",
        "    return nome_campo.lower() == nome_sistema.lower()\n",
        "\n",
        "campo_usuario = \"NomeCampo\"\n",
        "nome_sistema = \"nomecampo\"\n",
        "\n",
        "resultado = compara_nome(campo_usuario, nome_sistema)\n",
        "print(resultado)\n"
      ],
      "metadata": {
        "colab": {
          "base_uri": "https://localhost:8080/"
        },
        "id": "yFM0CWJ_N3gb",
        "outputId": "f341ff92-23ac-4c70-a21c-72ca872099ee"
      },
      "execution_count": 54,
      "outputs": [
        {
          "output_type": "stream",
          "name": "stdout",
          "text": [
            "True\n"
          ]
        }
      ]
    },
    {
      "cell_type": "markdown",
      "metadata": {
        "hidden": true,
        "id": "6C6rMyzuI1Vi"
      },
      "source": [
        "Tendo como input ```nome```, ```sobrenome``` e ```nome completo```, escreva duas funções que:\n",
        "a) identifiquem se o nome e sobrenome estão contidos no nome completo\n",
        "b) dado verdadeiro na anterior, retorne ```True``` se o nome completo está no formato de citação (sobrenome antes do nome) e ```False``` caso contrário."
      ]
    },
    {
      "cell_type": "code",
      "source": [
        "def verifica_contencao(nome, sobrenome, nome_completo):\n",
        "    \"\"\"\n",
        "    Verifica se o nome e o sobrenome estão contidos no nome completo.\n",
        "    \"\"\"\n",
        "    nome_lower = nome.lower()\n",
        "    sobrenome_lower = sobrenome.lower()\n",
        "    nome_completo_lower = nome_completo.lower()\n",
        "\n",
        "    return nome_lower in nome_completo_lower and sobrenome_lower in nome_completo_lower\n",
        "\n",
        "\n",
        "def verifica_formato_citacao(nome, sobrenome, nome_completo):\n",
        "    \"\"\"\n",
        "    Verifica se o nome completo está no formato de citação (sobrenome antes do nome).\n",
        "    \"\"\"\n",
        "    nome_lower = nome.lower()\n",
        "    sobrenome_lower = sobrenome.lower()\n",
        "    nome_completo_lower = nome_completo.lower()\n",
        "\n",
        "    if verifica_contencao(nome, sobrenome, nome_completo):\n",
        "        nome_completo_split = nome_completo_lower.split()\n",
        "        index_nome = nome_completo_split.index(nome_lower)\n",
        "        index_sobrenome = nome_completo_split.index(sobrenome_lower)\n",
        "        return index_sobrenome < index_nome\n",
        "    else:\n",
        "        return False\n",
        "\n",
        "nome = \"João\"\n",
        "sobrenome = \"Silva\"\n",
        "nome_completo = \"Silva João\"\n",
        "\n",
        "contencao = verifica_contencao(nome, sobrenome, nome_completo)\n",
        "formato_citacao = verifica_formato_citacao(nome, sobrenome, nome_completo)\n",
        "\n",
        "print(f\"Os nome e sobrenome estão contidos no nome completo: {contencao}\")\n",
        "print(f\"O formato de citação é válido: {formato_citacao}\")\n"
      ],
      "metadata": {
        "colab": {
          "base_uri": "https://localhost:8080/"
        },
        "id": "tjvbn5fjPYZV",
        "outputId": "d17d0b90-cc9c-4321-e18b-61fba70ba01d"
      },
      "execution_count": 59,
      "outputs": [
        {
          "output_type": "stream",
          "name": "stdout",
          "text": [
            "Os nome e sobrenome estão contidos no nome completo: True\n",
            "O formato de citação é válido: True\n"
          ]
        }
      ]
    }
  ],
  "metadata": {
    "kernelspec": {
      "display_name": "Python 3",
      "language": "python",
      "name": "python3"
    },
    "language_info": {
      "codemirror_mode": {
        "name": "ipython",
        "version": 3
      },
      "file_extension": ".py",
      "mimetype": "text/x-python",
      "name": "python",
      "nbconvert_exporter": "python",
      "pygments_lexer": "ipython3",
      "version": "3.8.5"
    },
    "varInspector": {
      "cols": {
        "lenName": 16,
        "lenType": 16,
        "lenVar": 40
      },
      "kernels_config": {
        "python": {
          "delete_cmd_postfix": "",
          "delete_cmd_prefix": "del ",
          "library": "var_list.py",
          "varRefreshCmd": "print(var_dic_list())"
        },
        "r": {
          "delete_cmd_postfix": ") ",
          "delete_cmd_prefix": "rm(",
          "library": "var_list.r",
          "varRefreshCmd": "cat(var_dic_list()) "
        }
      },
      "types_to_exclude": [
        "module",
        "function",
        "builtin_function_or_method",
        "instance",
        "_Feature"
      ],
      "window_display": false
    },
    "colab": {
      "provenance": []
    }
  },
  "nbformat": 4,
  "nbformat_minor": 0
}